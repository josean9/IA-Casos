{
 "cells": [
  {
   "cell_type": "code",
   "execution_count": 21,
   "metadata": {},
   "outputs": [],
   "source": [
    "import numpy as np\n",
    "import pandas as pd\n",
    "import matplotlib.pyplot as plt\n",
    "import seaborn as sns\n",
    "import graphviz\n",
    "from tabulate import tabulate\n",
    "from itertools import product\n",
    "\n",
    "# Modelos de Machine Learning\n",
    "from sklearn.ensemble import GradientBoostingClassifier, RandomForestClassifier\n",
    "from sklearn.tree import DecisionTreeClassifier, plot_tree\n",
    "from sklearn.naive_bayes import GaussianNB\n",
    "from sklearn.linear_model import LogisticRegression\n",
    "from sklearn.neural_network import MLPClassifier\n",
    "from xgboost import XGBClassifier\n",
    "import xgboost as xgb\n",
    "\n",
    "# Preprocesamiento\n",
    "from sklearn.preprocessing import LabelEncoder, OneHotEncoder\n",
    "\n",
    "# Model Selection y Validación\n",
    "from sklearn.model_selection import (\n",
    "    train_test_split, cross_val_score, learning_curve, validation_curve\n",
    ")\n",
    "\n",
    "# Métricas\n",
    "from sklearn.metrics import (\n",
    "    accuracy_score, classification_report, confusion_matrix, roc_auc_score,\n",
    "    roc_curve, precision_recall_curve, precision_score, recall_score, f1_score\n",
    ")\n"
   ]
  },
  {
   "cell_type": "code",
   "execution_count": 22,
   "metadata": {},
   "outputs": [],
   "source": [
    "data = pd.read_csv(\"../data/Propensity.csv\")\n",
    "pd.set_option('display.max_columns', None)\n",
    "pd.set_option('display.width', 1000)"
   ]
  },
  {
   "cell_type": "markdown",
   "metadata": {},
   "source": [
    "# Eliminacion de valores nulos"
   ]
  },
  {
   "cell_type": "code",
   "execution_count": 23,
   "metadata": {},
   "outputs": [
    {
     "data": {
      "text/plain": [
       "CODE                   0\n",
       "PRODUCTO               0\n",
       "TIPO_CARROCERIA        0\n",
       "COMBUSTIBLE            0\n",
       "Potencia               0\n",
       "TRANS                  0\n",
       "FORMA_PAGO             0\n",
       "ESTADO_CIVIL         890\n",
       "GENERO               860\n",
       "OcupaciOn              0\n",
       "PROVINCIA              0\n",
       "Campanna1              0\n",
       "Campanna2              0\n",
       "Campanna3              0\n",
       "Zona_Renta         13178\n",
       "REV_Garantia           0\n",
       "Averia_grave           1\n",
       "QUEJA_CAC              0\n",
       "COSTE_VENTA            0\n",
       "km_anno                0\n",
       "Mas_1_coche            0\n",
       "Revisiones             0\n",
       "Edad_Cliente           0\n",
       "Tiempo                 0\n",
       "dtype: int64"
      ]
     },
     "execution_count": 23,
     "metadata": {},
     "output_type": "execute_result"
    }
   ],
   "source": [
    "data.isnull().sum()"
   ]
  },
  {
   "cell_type": "code",
   "execution_count": 12,
   "metadata": {},
   "outputs": [
    {
     "name": "stderr",
     "output_type": "stream",
     "text": [
      "C:\\Users\\AulaDigital\\AppData\\Local\\Temp\\ipykernel_424\\1568174208.py:5: FutureWarning: A value is trying to be set on a copy of a DataFrame or Series through chained assignment using an inplace method.\n",
      "The behavior will change in pandas 3.0. This inplace method will never work because the intermediate object on which we are setting values always behaves as a copy.\n",
      "\n",
      "For example, when doing 'df[col].method(value, inplace=True)', try using 'df.method({col: value}, inplace=True)' or df[col] = df[col].method(value) instead, to perform the operation inplace on the original object.\n",
      "\n",
      "\n",
      "  data[col].replace(\"NO DATA\", moda, inplace=True)\n"
     ]
    }
   ],
   "source": [
    "# Reemplazar \"NO DATA\" con la moda de la columna correspondiente\n",
    "for col in data.columns:\n",
    "    if data[col].dtype == 'object':  # Para columnas de tipo texto\n",
    "        moda = data[col].mode()[0]  # Obtener la moda de la columna\n",
    "        data[col].replace(\"NO DATA\", moda, inplace=True)\n",
    "    else:\n",
    "        # Para columnas numéricas, no hacemos nada con el \"NO DATA\"\n",
    "        pass\n"
   ]
  },
  {
   "cell_type": "code",
   "execution_count": 13,
   "metadata": {},
   "outputs": [
    {
     "name": "stdout",
     "output_type": "stream",
     "text": [
      "    CODE  PRODUCTO  TIPO_CARROCERIA  COMBUSTIBLE  Potencia  TRANS  FORMA_PAGO  ESTADO_CIVIL  GENERO  OcupaciOn  PROVINCIA  Campanna1  Campanna2  Campanna3  Zona_Renta  REV_Garantia  Averia_grave  QUEJA_CAC  COSTE_VENTA  km_anno  Mas_1_coche  Revisiones  Edad_Cliente  Tiempo\n",
      "0      0         0                0            0         1      1           0             0       1          1          4          1          0          0           2             0             2          1         2892        0        False           2            18       0\n",
      "1  11111         0                0            0         1      1           0             0       0          1         47          0          0          0           2             1             3          0         1376     7187        False           2            53       0\n",
      "2  22222         0                0            0         1      1           3             0       1          1         30          0          0          0           1             0             3          0         1376        0         True           4            21       3\n",
      "3  33333         0                0            0         1      1           2             0       0          1         32          1          0          0           1             1             2          1         2015     7256         True           4            48       5\n",
      "4  44444         0                0            0         1      1           2             0       0          2         41          1          0          1           0             0             3          0         1818        0         True           3            21       3\n"
     ]
    }
   ],
   "source": [
    "\n",
    "# Crear el objeto LabelEncoder\n",
    "le = LabelEncoder()\n",
    "\n",
    "# Convertir las columnas de tipo 'object' a valores numéricos con LabelEncoder\n",
    "for col in data.select_dtypes(include=['object']).columns:\n",
    "    data[col] = le.fit_transform(data[col])\n",
    "\n",
    "# Verificar los cambios\n",
    "print(data.head())\n"
   ]
  },
  {
   "cell_type": "code",
   "execution_count": 14,
   "metadata": {},
   "outputs": [
    {
     "name": "stdout",
     "output_type": "stream",
     "text": [
      "Filas duplicadas: 0\n"
     ]
    }
   ],
   "source": [
    "# Verificar si hay filas duplicadas\n",
    "duplicates = data.duplicated().sum()\n",
    "print(f\"Filas duplicadas: {duplicates}\")\n",
    "\n",
    "# Eliminar duplicados si los hay\n",
    "data = data.drop_duplicates()\n"
   ]
  },
  {
   "cell_type": "code",
   "execution_count": 15,
   "metadata": {},
   "outputs": [
    {
     "name": "stdout",
     "output_type": "stream",
     "text": [
      "Valores faltantes por columna:\n",
      "CODE               0\n",
      "PRODUCTO           0\n",
      "TIPO_CARROCERIA    0\n",
      "COMBUSTIBLE        0\n",
      "Potencia           0\n",
      "TRANS              0\n",
      "FORMA_PAGO         0\n",
      "ESTADO_CIVIL       0\n",
      "GENERO             0\n",
      "OcupaciOn          0\n",
      "PROVINCIA          0\n",
      "Campanna1          0\n",
      "Campanna2          0\n",
      "Campanna3          0\n",
      "Zona_Renta         0\n",
      "REV_Garantia       0\n",
      "Averia_grave       0\n",
      "QUEJA_CAC          0\n",
      "COSTE_VENTA        0\n",
      "km_anno            0\n",
      "Mas_1_coche        0\n",
      "Revisiones         0\n",
      "Edad_Cliente       0\n",
      "Tiempo             0\n",
      "dtype: int64\n",
      "Valores faltantes después de la imputación:\n",
      "CODE               0\n",
      "PRODUCTO           0\n",
      "TIPO_CARROCERIA    0\n",
      "COMBUSTIBLE        0\n",
      "Potencia           0\n",
      "TRANS              0\n",
      "FORMA_PAGO         0\n",
      "ESTADO_CIVIL       0\n",
      "GENERO             0\n",
      "OcupaciOn          0\n",
      "PROVINCIA          0\n",
      "Campanna1          0\n",
      "Campanna2          0\n",
      "Campanna3          0\n",
      "Zona_Renta         0\n",
      "REV_Garantia       0\n",
      "Averia_grave       0\n",
      "QUEJA_CAC          0\n",
      "COSTE_VENTA        0\n",
      "km_anno            0\n",
      "Mas_1_coche        0\n",
      "Revisiones         0\n",
      "Edad_Cliente       0\n",
      "Tiempo             0\n",
      "dtype: int64\n"
     ]
    }
   ],
   "source": [
    "# Verificar valores nulos\n",
    "missing_values = data.isnull().sum()\n",
    "print(\"Valores faltantes por columna:\")\n",
    "print(missing_values)\n",
    "\n",
    "# Si hay valores faltantes, podemos imputarlos (por ejemplo, con la moda, media o median)\n",
    "# En este caso, rellenamos los valores nulos con la moda de cada columna\n",
    "for col in data.columns:\n",
    "    if data[col].isnull().sum() > 0:\n",
    "        mode_value = data[col].mode()[0]\n",
    "        data[col] = data[col].fillna(mode_value)\n",
    "\n",
    "# Verificar nuevamente si hay valores nulos\n",
    "missing_values_after_imputation = data.isnull().sum()\n",
    "print(\"Valores faltantes después de la imputación:\")\n",
    "print(missing_values_after_imputation)\n"
   ]
  },
  {
   "cell_type": "code",
   "execution_count": 16,
   "metadata": {},
   "outputs": [
    {
     "name": "stdout",
     "output_type": "stream",
     "text": [
      "Datos después de eliminar outliers:\n",
      "               CODE      PRODUCTO  TIPO_CARROCERIA   COMBUSTIBLE      Potencia    TRANS    FORMA_PAGO  ESTADO_CIVIL        GENERO  OcupaciOn     PROVINCIA     Campanna1  Campanna2  Campanna3    Zona_Renta  REV_Garantia  Averia_grave     QUEJA_CAC   COSTE_VENTA       km_anno    Revisiones  Edad_Cliente        Tiempo\n",
      "count  36923.000000  36923.000000     36923.000000  36923.000000  36923.000000  36923.0  36923.000000  36923.000000  36923.000000    36923.0  36923.000000  36923.000000    36923.0    36923.0  36923.000000  36923.000000  36923.000000  36923.000000  36923.000000  36923.000000  36923.000000  36923.000000  36923.000000\n",
      "mean   27658.497251      3.320397         2.833139      0.561276      1.551039      1.0      1.039623      0.772472      0.719741        1.0     25.558432      0.356769        0.0        0.0      1.460282      0.518809      2.161742      0.400347   2482.210248  12679.967798      3.990033     47.496141      1.855510\n",
      "std    16693.939023      3.150839         2.753142      0.496238      0.735412      0.0      1.263367      1.311732      0.490578        0.0     15.447683      0.479052        0.0        0.0      1.372386      0.499653      1.018092      0.489975   1557.300537   9530.445702      2.564378     10.877168      3.097289\n",
      "min        0.000000      0.000000         0.000000      0.000000      0.000000      1.0      0.000000      0.000000      0.000000        1.0      0.000000      0.000000        0.0        0.0      0.000000      0.000000      0.000000      0.000000      0.000000      0.000000      0.000000     18.000000      0.000000\n",
      "25%    13080.500000      1.000000         0.000000      0.000000      1.000000      1.0      0.000000      0.000000      0.000000        1.0      8.000000      0.000000        0.0        0.0      0.000000      0.000000      2.000000      0.000000   1525.000000   5778.000000      2.000000     41.000000      0.000000\n",
      "50%    27153.000000      2.000000         3.000000      1.000000      2.000000      1.0      0.000000      0.000000      1.000000        1.0     30.000000      0.000000        0.0        0.0      1.000000      1.000000      2.000000      0.000000   2287.000000  12280.000000      4.000000     48.000000      0.000000\n",
      "75%    41308.500000      8.000000         6.000000      1.000000      2.000000      1.0      2.000000      1.000000      1.000000        1.0     36.000000      1.000000        0.0        0.0      2.000000      1.000000      3.000000      1.000000   3301.000000  18528.000000      6.000000     56.000000      4.000000\n",
      "max    58046.000000      9.000000         7.000000      1.000000      2.000000      1.0      3.000000      4.000000      2.000000        1.0     52.000000      1.000000        0.0        0.0      4.000000      1.000000      4.000000      1.000000   8683.000000  55713.000000     13.000000     71.000000     11.000000\n"
     ]
    }
   ],
   "source": [
    "# Función para detectar y eliminar valores atípicos usando IQR (Rango intercuartílico)\n",
    "def remove_outliers(df, col):\n",
    "    Q1 = df[col].quantile(0.15)\n",
    "    Q3 = df[col].quantile(0.85)\n",
    "    IQR = Q3 - Q1\n",
    "    lower_bound = Q1 - 1.5 * IQR\n",
    "    upper_bound = Q3 + 1.5 * IQR\n",
    "    return df[(df[col] >= lower_bound) & (df[col] <= upper_bound)]\n",
    "\n",
    "# Detectar y eliminar outliers para las columnas numéricas\n",
    "for col in data.select_dtypes(include=['float64', 'int64']).columns:\n",
    "    data = remove_outliers(data, col)\n",
    "\n",
    "# Ver los datos después de eliminar los outliers\n",
    "print(\"Datos después de eliminar outliers:\")\n",
    "print(data.describe())\n"
   ]
  },
  {
   "cell_type": "code",
   "execution_count": 17,
   "metadata": {},
   "outputs": [
    {
     "name": "stdout",
     "output_type": "stream",
     "text": [
      "Tipos de datos actuales:\n",
      "CODE               int64\n",
      "PRODUCTO           int64\n",
      "TIPO_CARROCERIA    int64\n",
      "COMBUSTIBLE        int64\n",
      "Potencia           int64\n",
      "TRANS              int64\n",
      "FORMA_PAGO         int64\n",
      "ESTADO_CIVIL       int64\n",
      "GENERO             int64\n",
      "OcupaciOn          int64\n",
      "PROVINCIA          int64\n",
      "Campanna1          int64\n",
      "Campanna2          int64\n",
      "Campanna3          int64\n",
      "Zona_Renta         int64\n",
      "REV_Garantia       int64\n",
      "Averia_grave       int64\n",
      "QUEJA_CAC          int64\n",
      "COSTE_VENTA        int64\n",
      "km_anno            int64\n",
      "Mas_1_coche         bool\n",
      "Revisiones         int64\n",
      "Edad_Cliente       int64\n",
      "Tiempo             int64\n",
      "dtype: object\n",
      "Tipos de datos después de la conversión:\n",
      "CODE               int64\n",
      "PRODUCTO           int64\n",
      "TIPO_CARROCERIA    int64\n",
      "COMBUSTIBLE        int64\n",
      "Potencia           int64\n",
      "TRANS              int64\n",
      "FORMA_PAGO         int64\n",
      "ESTADO_CIVIL       int64\n",
      "GENERO             int64\n",
      "OcupaciOn          int64\n",
      "PROVINCIA          int64\n",
      "Campanna1          int64\n",
      "Campanna2          int64\n",
      "Campanna3          int64\n",
      "Zona_Renta         int64\n",
      "REV_Garantia       int64\n",
      "Averia_grave       int64\n",
      "QUEJA_CAC          int64\n",
      "COSTE_VENTA        int64\n",
      "km_anno            int64\n",
      "Mas_1_coche         bool\n",
      "Revisiones         int64\n",
      "Edad_Cliente       int64\n",
      "Tiempo             int64\n",
      "dtype: object\n"
     ]
    }
   ],
   "source": [
    "# Verificar tipos de datos\n",
    "print(\"Tipos de datos actuales:\")\n",
    "print(data.dtypes)\n",
    "\n",
    "# Convertir las columnas que deberían ser numéricas, si es necesario\n",
    "data['km_anno'] = pd.to_numeric(data['km_anno'], errors='coerce')\n",
    "data['COSTE_VENTA'] = pd.to_numeric(data['COSTE_VENTA'], errors='coerce')\n",
    "\n",
    "# Verificar nuevamente\n",
    "print(\"Tipos de datos después de la conversión:\")\n",
    "print(data.dtypes)\n"
   ]
  },
  {
   "cell_type": "code",
   "execution_count": 18,
   "metadata": {},
   "outputs": [
    {
     "name": "stdout",
     "output_type": "stream",
     "text": [
      "0    0\n",
      "1    0\n",
      "2    1\n",
      "3    1\n",
      "5    0\n",
      "Name: Mas_1_coche, dtype: int64\n"
     ]
    }
   ],
   "source": [
    "# Convertir la columna 'Mas_1_coche' a valores 0 y 1\n",
    "data['Mas_1_coche'] = data['Mas_1_coche'].astype(int)\n",
    "\n",
    "# Verificar la conversión\n",
    "print(data['Mas_1_coche'].head())\n"
   ]
  },
  {
   "cell_type": "code",
   "execution_count": 19,
   "metadata": {},
   "outputs": [
    {
     "data": {
      "image/png": "[encoded data removed]",
      "text/plain": [
       "<Figure size 1000x800 with 2 Axes>"
      ]
     },
     "metadata": {},
     "output_type": "display_data"
    }
   ],
   "source": [
    "import seaborn as sns\n",
    "import matplotlib.pyplot as plt\n",
    "\n",
    "# Selección de las columnas numéricas importantes\n",
    "columns_of_interest = ['COSTE_VENTA', 'km_anno', 'Edad_Cliente', 'Tiempo', 'Mas_1_coche', 'Potencia']\n",
    "\n",
    "# Filtrar solo las columnas seleccionadas\n",
    "data_of_interest = data[columns_of_interest]\n",
    "\n",
    "# Calcular la matriz de correlación\n",
    "correlation_matrix = data_of_interest.corr()\n",
    "\n",
    "# Mostrar la matriz de correlación como un heatmap (mapa de calor)\n",
    "plt.figure(figsize=(10, 8))\n",
    "sns.heatmap(correlation_matrix, annot=True, cmap='coolwarm', fmt=\".2f\", linewidths=0.5, cbar_kws={'shrink': 0.75})\n",
    "plt.title(\"Matriz de Correlación de Variables Seleccionadas\")\n",
    "plt.show()\n"
   ]
  }
 ],
 "metadata": {
  "kernelspec": {
   "display_name": "Python 3",
   "language": "python",
   "name": "python3"
  },
  "language_info": {
   "codemirror_mode": {
    "name": "ipython",
    "version": 3
   },
   "file_extension": ".py",
   "mimetype": "text/x-python",
   "name": "python",
   "nbconvert_exporter": "python",
   "pygments_lexer": "ipython3",
   "version": "3.13.1"
  }
 },
 "nbformat": 4,
 "nbformat_minor": 2
}
